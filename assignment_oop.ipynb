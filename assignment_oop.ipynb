{
 "cells": [
  {
   "cell_type": "markdown",
   "metadata": {},
   "source": [
    "Assignment#1"
   ]
  },
  {
   "cell_type": "code",
   "execution_count": 8,
   "metadata": {},
   "outputs": [],
   "source": [
    "# Create father class\n",
    "\n",
    "class Father():\n",
    "    def __init__(self,name):\n",
    "        self.name = name\n",
    "        self.age = None\n",
    "        self.skill = None\n",
    "        \n",
    "    def doJob(self):\n",
    "        return f\"I am doing {self.skill}\"\n",
    "    \n",
    "    def doDrive(self,driving):\n",
    "        return f\"I am driving {driving}\"\n",
    "\n",
    "# create mother class\n",
    "\n",
    "class Mother():\n",
    "    def __init__(this,name):\n",
    "        this.name = name\n",
    "        this.speak = None\n",
    "        this.cleanItem = None\n",
    "        this.cook = None\n",
    "        \n",
    "    def cook(this):\n",
    "        return f\"I am cooking {this.cook}\"\n",
    "    \n",
    "    def doClean(this):\n",
    "        return f\"I am cleaning {this.cleanItem}\"\n",
    "    \n",
    "# create child class\n",
    "\n",
    "class Child(Father, Mother):\n",
    "    def __init__(self,name):\n",
    "        Father.__init__(self, name)\n",
    "        Mother.__init__(self, name)\n",
    "        self.address = None\n",
    "        self.education = None\n",
    "        \n"
   ]
  },
  {
   "cell_type": "code",
   "execution_count": 9,
   "metadata": {},
   "outputs": [],
   "source": [
    "#declare objects\n",
    "\n",
    "f1=Father(\"Moeed Masood\")\n",
    "m1=Mother(\"Zunaira\")\n",
    "c1=Child(\"Rohaan\")\n"
   ]
  },
  {
   "cell_type": "code",
   "execution_count": 5,
   "metadata": {},
   "outputs": [
    {
     "name": "stdout",
     "output_type": "stream",
     "text": [
      "['age', 'doDrive', 'doJob', 'name', 'skill']\n"
     ]
    }
   ],
   "source": [
    "print(list(i for i in dir(f1) if \"__\" not in i))"
   ]
  },
  {
   "cell_type": "code",
   "execution_count": 11,
   "metadata": {},
   "outputs": [
    {
     "name": "stdout",
     "output_type": "stream",
     "text": [
      "['cleanItem', 'cook', 'doClean', 'name', 'speak']\n"
     ]
    }
   ],
   "source": [
    "print(list(i for i in dir(m1) if \"__\" not in i))"
   ]
  },
  {
   "cell_type": "code",
   "execution_count": 10,
   "metadata": {},
   "outputs": [
    {
     "name": "stdout",
     "output_type": "stream",
     "text": [
      "['address', 'age', 'cleanItem', 'cook', 'doClean', 'doDrive', 'doJob', 'education', 'name', 'skill', 'speak']\n"
     ]
    }
   ],
   "source": [
    "print(list(i for i in dir(c1) if \"__\" not in i))"
   ]
  },
  {
   "cell_type": "code",
   "execution_count": 12,
   "metadata": {},
   "outputs": [
    {
     "name": "stdout",
     "output_type": "stream",
     "text": [
      "I am cleaning Rohaan Cupboard\n"
     ]
    }
   ],
   "source": [
    "c1.cleanItem=\"Rohaan Cupboard\"\n",
    "print(c1.doClean())"
   ]
  },
  {
   "cell_type": "markdown",
   "metadata": {},
   "source": [
    "Assignment#2"
   ]
  },
  {
   "cell_type": "code",
   "execution_count": 13,
   "metadata": {},
   "outputs": [],
   "source": [
    "#Operator Overloading\n",
    "\n",
    "class Apartment():\n",
    "    def __init__(self, price):\n",
    "        self.price = price\n",
    "        self.commission=0.05\n",
    "        \n",
    "   # Operator Overloading\n",
    "    def __add__(self, other):\n",
    "        return self.price + other.price + (self.price+other.price)* self.commission /100"
   ]
  },
  {
   "cell_type": "code",
   "execution_count": 14,
   "metadata": {},
   "outputs": [
    {
     "name": "stdout",
     "output_type": "stream",
     "text": [
      "70000\n"
     ]
    }
   ],
   "source": [
    "apt1=Apartment(20000)\n",
    "apt2=Apartment(50000)\n",
    "\n",
    "print(apt1+apt2)"
   ]
  }
 ],
 "metadata": {
  "kernelspec": {
   "display_name": "Python 3.9.12 ('base')",
   "language": "python",
   "name": "python3"
  },
  "language_info": {
   "codemirror_mode": {
    "name": "ipython",
    "version": 3
   },
   "file_extension": ".py",
   "mimetype": "text/x-python",
   "name": "python",
   "nbconvert_exporter": "python",
   "pygments_lexer": "ipython3",
   "version": "3.9.12"
  },
  "orig_nbformat": 4,
  "vscode": {
   "interpreter": {
    "hash": "4051034aba497e601459254ba746fa80198b01aa458ecf90b060a2250b3fa3d5"
   }
  }
 },
 "nbformat": 4,
 "nbformat_minor": 2
}
